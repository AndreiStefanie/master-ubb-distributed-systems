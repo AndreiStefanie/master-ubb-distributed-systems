{
 "cells": [
  {
   "cell_type": "markdown",
   "metadata": {},
   "source": [
    "# Collaborative Filtering Recommendations using Normalized Values"
   ]
  },
  {
   "cell_type": "code",
   "execution_count": 107,
   "metadata": {},
   "outputs": [],
   "source": [
    "import pandas as pd\n",
    "import numpy as np\n",
    "import implicit\n",
    "\n",
    "from scipy.sparse import csr_matrix\n"
   ]
  },
  {
   "cell_type": "code",
   "execution_count": 108,
   "metadata": {},
   "outputs": [],
   "source": [
    "train = pd.read_csv(\"data\\\\train-plays.csv\")\n",
    "test = pd.read_csv(\"data\\\\test-plays.csv\")\n",
    "game_coding = pd.read_csv(\"data\\\\game-coding.csv\")\n"
   ]
  },
  {
   "cell_type": "code",
   "execution_count": 109,
   "metadata": {},
   "outputs": [
    {
     "data": {
      "text/plain": [
       "39893"
      ]
     },
     "execution_count": 109,
     "metadata": {},
     "output_type": "execute_result"
    }
   ],
   "source": [
    "train.shape[0]\n"
   ]
  },
  {
   "cell_type": "markdown",
   "metadata": {},
   "source": [
    "## Format training data"
   ]
  },
  {
   "cell_type": "code",
   "execution_count": 110,
   "metadata": {},
   "outputs": [],
   "source": [
    "game_user = train.pivot(\n",
    "    index=\"game_id\", columns=\"user_id\", values=\"norm_amount\")"
   ]
  },
  {
   "cell_type": "code",
   "execution_count": 111,
   "metadata": {},
   "outputs": [],
   "source": [
    "game_user = game_user.fillna(0)"
   ]
  },
  {
   "cell_type": "code",
   "execution_count": 112,
   "metadata": {},
   "outputs": [],
   "source": [
    "user_coding = pd.DataFrame(\n",
    "    {\"original\": game_user.columns, \"coded\": np.arange(game_user.columns.size)})"
   ]
  },
  {
   "cell_type": "code",
   "execution_count": 113,
   "metadata": {},
   "outputs": [],
   "source": [
    "game_user_sparse = csr_matrix(game_user)"
   ]
  },
  {
   "cell_type": "code",
   "execution_count": 114,
   "metadata": {},
   "outputs": [],
   "source": [
    "user_game = game_user.T"
   ]
  },
  {
   "cell_type": "code",
   "execution_count": 115,
   "metadata": {},
   "outputs": [],
   "source": [
    "user_game_sparse = csr_matrix(user_game)"
   ]
  },
  {
   "cell_type": "code",
   "execution_count": 116,
   "metadata": {},
   "outputs": [],
   "source": [
    "user_ids = train['user_id'].unique()"
   ]
  },
  {
   "cell_type": "code",
   "execution_count": 117,
   "metadata": {},
   "outputs": [
    {
     "data": {
      "text/plain": [
       "98.86683387172529"
      ]
     },
     "execution_count": 117,
     "metadata": {},
     "output_type": "execute_result"
    }
   ],
   "source": [
    "# Number of possible interactions in the matrix\n",
    "matrix_size = game_user_sparse.shape[0] * game_user_sparse.shape[1]\n",
    "# Number of items interacted with\n",
    "num_played = len(game_user_sparse.nonzero()[0])\n",
    "sparsity = 100 * (1 - (num_played / matrix_size))\n",
    "sparsity"
   ]
  },
  {
   "cell_type": "markdown",
   "metadata": {},
   "source": [
    "# Alternating Least Squares"
   ]
  },
  {
   "cell_type": "code",
   "execution_count": 118,
   "metadata": {},
   "outputs": [],
   "source": [
    "als = implicit.als.AlternatingLeastSquares(128, 0.05, iterations=50)"
   ]
  },
  {
   "cell_type": "code",
   "execution_count": 119,
   "metadata": {},
   "outputs": [
    {
     "name": "stderr",
     "output_type": "stream",
     "text": [
      "100%|██████████| 50/50 [00:01<00:00, 26.41it/s]\n"
     ]
    }
   ],
   "source": [
    "als.fit(game_user_sparse)"
   ]
  },
  {
   "cell_type": "code",
   "execution_count": 120,
   "metadata": {},
   "outputs": [
    {
     "name": "stderr",
     "output_type": "stream",
     "text": [
      "100%|██████████| 3407/3407 [00:00<00:00, 47317.70it/s]\n"
     ]
    }
   ],
   "source": [
    "game_recs = np.ndarray.flatten(als.recommend_all(user_game_sparse))\n",
    "user_10 = np.repeat(user_game.index, 10)\n",
    "recommendations = pd.DataFrame({\"user_id\": user_10, \"game_id\": game_recs})"
   ]
  },
  {
   "cell_type": "code",
   "execution_count": 121,
   "metadata": {},
   "outputs": [],
   "source": [
    "results = recommendations.merge(test, on=\"user_id\")"
   ]
  },
  {
   "cell_type": "code",
   "execution_count": 122,
   "metadata": {},
   "outputs": [],
   "source": [
    "results['recommended'] = np.where(results.game_id_x == results.game_id_y, 1, 0)"
   ]
  },
  {
   "cell_type": "code",
   "execution_count": 123,
   "metadata": {},
   "outputs": [
    {
     "data": {
      "text/plain": [
       "0.14000587026709715"
      ]
     },
     "execution_count": 123,
     "metadata": {},
     "output_type": "execute_result"
    }
   ],
   "source": [
    "# accuracy\n",
    "results[results.recommended == 1].shape[0] / test.shape[0]"
   ]
  },
  {
   "cell_type": "code",
   "execution_count": 124,
   "metadata": {},
   "outputs": [
    {
     "data": {
      "text/plain": [
       "0.829622458857696"
      ]
     },
     "execution_count": 124,
     "metadata": {},
     "output_type": "execute_result"
    }
   ],
   "source": [
    "# % of games recommended\n",
    "np.unique(game_recs).size / train.game_id.unique().size"
   ]
  },
  {
   "cell_type": "markdown",
   "metadata": {},
   "source": [
    "# Bayesian Personalized Ranking"
   ]
  },
  {
   "cell_type": "code",
   "execution_count": 125,
   "metadata": {},
   "outputs": [],
   "source": [
    "bpr = implicit.bpr.BayesianPersonalizedRanking(128, 0.01, 0.05, iterations=200)"
   ]
  },
  {
   "cell_type": "code",
   "execution_count": 126,
   "metadata": {},
   "outputs": [
    {
     "name": "stderr",
     "output_type": "stream",
     "text": [
      "100%|██████████| 200/200 [00:03<00:00, 66.27it/s, train_auc=87.74%, skipped=9.11%]\n"
     ]
    }
   ],
   "source": [
    "bpr.fit(game_user_sparse)"
   ]
  },
  {
   "cell_type": "code",
   "execution_count": 127,
   "metadata": {},
   "outputs": [
    {
     "name": "stderr",
     "output_type": "stream",
     "text": [
      "100%|██████████| 3407/3407 [00:00<00:00, 36249.24it/s]\n"
     ]
    }
   ],
   "source": [
    "game_recs = np.ndarray.flatten(bpr.recommend_all(user_game_sparse))\n",
    "user_10 = np.repeat(user_game.index, 10)\n",
    "recommendations = pd.DataFrame({\"user_id\":user_10, \"game_id\":game_recs})"
   ]
  },
  {
   "cell_type": "code",
   "execution_count": 128,
   "metadata": {},
   "outputs": [],
   "source": [
    "results = recommendations.merge(test, on=\"user_id\")"
   ]
  },
  {
   "cell_type": "code",
   "execution_count": 129,
   "metadata": {},
   "outputs": [],
   "source": [
    "results['recommended'] = np.where(results.game_id_x == results.game_id_y, 1, 0)"
   ]
  },
  {
   "cell_type": "code",
   "execution_count": 130,
   "metadata": {},
   "outputs": [
    {
     "data": {
      "text/plain": [
       "0.2456706780158497"
      ]
     },
     "execution_count": 130,
     "metadata": {},
     "output_type": "execute_result"
    }
   ],
   "source": [
    "# accuracy\n",
    "results[results.recommended == 1].shape[0] / test.shape[0]"
   ]
  },
  {
   "cell_type": "code",
   "execution_count": 131,
   "metadata": {},
   "outputs": [
    {
     "data": {
      "text/plain": [
       "0.850919651500484"
      ]
     },
     "execution_count": 131,
     "metadata": {},
     "output_type": "execute_result"
    }
   ],
   "source": [
    "# % of games recommended\n",
    "np.unique(game_recs).size / train.game_id.unique().size"
   ]
  },
  {
   "cell_type": "markdown",
   "metadata": {},
   "source": [
    "# Logistic Matrix Factorization"
   ]
  },
  {
   "cell_type": "code",
   "execution_count": 132,
   "metadata": {},
   "outputs": [],
   "source": [
    "lmf = implicit.lmf.LogisticMatrixFactorization(128)"
   ]
  },
  {
   "cell_type": "code",
   "execution_count": 133,
   "metadata": {},
   "outputs": [
    {
     "name": "stderr",
     "output_type": "stream",
     "text": [
      "100%|██████████| 30/30 [00:06<00:00,  4.99it/s]\n"
     ]
    }
   ],
   "source": [
    "lmf.fit(game_user_sparse)"
   ]
  },
  {
   "cell_type": "code",
   "execution_count": 134,
   "metadata": {},
   "outputs": [
    {
     "name": "stderr",
     "output_type": "stream",
     "text": [
      "100%|██████████| 3407/3407 [00:00<00:00, 51621.41it/s]\n"
     ]
    }
   ],
   "source": [
    "game_recs = np.ndarray.flatten(lmf.recommend_all(user_game_sparse))\n",
    "user_10 = np.repeat(user_game.index, 10)\n",
    "recommendations = pd.DataFrame({\"user_id\":user_10, \"game_id\":game_recs})"
   ]
  },
  {
   "cell_type": "code",
   "execution_count": 135,
   "metadata": {},
   "outputs": [],
   "source": [
    "results = recommendations.merge(test, on=\"user_id\")"
   ]
  },
  {
   "cell_type": "code",
   "execution_count": 136,
   "metadata": {},
   "outputs": [],
   "source": [
    "results['recommended'] = np.where(results.game_id_x == results.game_id_y, 1, 0)"
   ]
  },
  {
   "cell_type": "code",
   "execution_count": 137,
   "metadata": {},
   "outputs": [
    {
     "data": {
      "text/plain": [
       "0.04490754329321984"
      ]
     },
     "execution_count": 137,
     "metadata": {},
     "output_type": "execute_result"
    }
   ],
   "source": [
    "# accuracy\n",
    "results[results.recommended == 1].shape[0] / test.shape[0]"
   ]
  },
  {
   "cell_type": "code",
   "execution_count": 138,
   "metadata": {},
   "outputs": [
    {
     "data": {
      "text/plain": [
       "0.7938044530493708"
      ]
     },
     "execution_count": 138,
     "metadata": {},
     "output_type": "execute_result"
    }
   ],
   "source": [
    "# % of games recommended\n",
    "np.unique(game_recs).size / train.game_id.unique().size"
   ]
  },
  {
   "cell_type": "markdown",
   "metadata": {},
   "source": [
    "# ALS + BPR"
   ]
  },
  {
   "cell_type": "code",
   "execution_count": 139,
   "metadata": {},
   "outputs": [],
   "source": [
    "user_recs = dict()\n",
    "for user_id in user_ids:\n",
    "    res = set(idx for idx, score in als.recommend(user_id, user_game_sparse))\n",
    "    user_recs[user_id] = res\n"
   ]
  },
  {
   "cell_type": "code",
   "execution_count": 140,
   "metadata": {},
   "outputs": [],
   "source": [
    "for user_id in user_ids:\n",
    "    res = set(idx for idx, score in bpr.recommend(user_id, user_game_sparse))\n",
    "    als_res = user_recs[user_id]\n",
    "    for r in res:\n",
    "        als_res.add(r)\n",
    "    user_recs[user_id] = als_res\n"
   ]
  },
  {
   "cell_type": "code",
   "execution_count": 141,
   "metadata": {},
   "outputs": [
    {
     "name": "stdout",
     "output_type": "stream",
     "text": [
      "0.29292632814793074\n"
     ]
    }
   ],
   "source": [
    "num_total = 0\n",
    "num_correct = 0\n",
    "for user_id in user_ids:\n",
    "    test_df = test[test['user_id'] == user_id]\n",
    "    test_game_id = test_df['game_id'][user_id]\n",
    "    num_total = num_total + 1\n",
    "    if test_game_id in user_recs[user_id]:\n",
    "        num_correct = num_correct + 1\n",
    "\n",
    "print(num_correct / num_total)\n"
   ]
  }
 ],
 "metadata": {
  "file_extension": ".py",
  "kernelspec": {
   "display_name": "Python 3",
   "language": "python",
   "name": "python3"
  },
  "language_info": {
   "codemirror_mode": {
    "name": "ipython",
    "version": 3
   },
   "file_extension": ".py",
   "mimetype": "text/x-python",
   "name": "python",
   "nbconvert_exporter": "python",
   "pygments_lexer": "ipython3",
   "version": "3.9.7"
  },
  "mimetype": "text/x-python",
  "name": "python",
  "npconvert_exporter": "python",
  "pygments_lexer": "ipython3",
  "version": 3
 },
 "nbformat": 4,
 "nbformat_minor": 2
}
